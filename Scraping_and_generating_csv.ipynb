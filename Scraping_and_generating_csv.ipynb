{
 "cells": [
  {
   "cell_type": "code",
   "execution_count": null,
   "metadata": {},
   "outputs": [],
   "source": [
    "import requests\n",
    "from bs4 import BeautifulSoup as bs\n",
    "import os\n",
    "import pandas as pd"
   ]
  },
  {
   "cell_type": "code",
   "execution_count": null,
   "metadata": {},
   "outputs": [],
   "source": [
    "classes = ['sport', 'international' , 'sci-tech & agri', 'sunday magazine']\n",
    "news_dic = {'sport': [] , 'international' : [], 'sci-tech & agri' : [], 'sunday magazine':[]}"
   ]
  },
  {
   "cell_type": "code",
   "execution_count": null,
   "metadata": {},
   "outputs": [],
   "source": [
    "news_dic\n",
    "    "
   ]
  },
  {
   "cell_type": "code",
   "execution_count": null,
   "metadata": {},
   "outputs": [],
   "source": [
    "url_to_fetch_news_from = 'https://www.thehindu.com/archive/print/2022/02/27/'"
   ]
  },
  {
   "cell_type": "code",
   "execution_count": null,
   "metadata": {},
   "outputs": [],
   "source": [
    "s = bs(requests.get(url_to_fetch_news_from).__dict__['_content'], \"html5lib\")\n",
    "#s = bs(requests.get(\"https://www.thehindu.com/archive/print/2021/02/16/\").__dict__['_content'], \"html5lib\")\n",
    "lis = s.find_all(['section'])\n",
    "lis = lis[1:]\n",
    "\n",
    "for i in lis: # going through all sections ( national, international, sports etc)\n",
    "    d_s = bs(str(bs(str(i), \"html5lib\").find(['h2','a'])),\"html5lib\").find('a').text[1:-1]\n",
    "    #print(d_s)\n",
    "    if d_s in classes :  # buisness, sports, opinion\n",
    "        print(d_s)\n",
    "        for j in bs(str(i), \"html5lib\").find_all('a', href= True): # loopink through articles\n",
    "            article_link = j['href']\n",
    "            s_a_l = bs(requests.get(article_link).__dict__['_content'], \"html5lib\")\n",
    "            article = ''\n",
    "            for p in s_a_l.find_all('p'): # looping through paragraphs in article\n",
    "                p.get_text()\n",
    "                article = article + p.get_text()\n",
    "            #print(article)\n",
    "\n",
    "            news_dic[d_s].append(article[1:-212]) # article completed"
   ]
  },
  {
   "cell_type": "code",
   "execution_count": null,
   "metadata": {},
   "outputs": [],
   "source": [
    "#pd.DataFrame.from_dict(news_dic,orient='index').transpose().head(30)\n",
    "df_sport = pd.DataFrame.from_dict(news_dic, orient = 'index').transpose()[['sport']]\n",
    "df_int = pd.DataFrame.from_dict(news_dic, orient = 'index').transpose()[['international']]       \n",
    "df_sc = pd.DataFrame.from_dict(news_dic, orient = 'index').transpose()[['sci-tech & agri']]\n",
    "df_mag = pd.DataFrame.from_dict(news_dic, orient = 'index').transpose()[['sunday magazine']]"
   ]
  },
  {
   "cell_type": "code",
   "execution_count": null,
   "metadata": {},
   "outputs": [],
   "source": [
    "df_sport['news'] = pd.DataFrame.from_dict(news_dic, orient = 'index').transpose()[['sport']]\n",
    "df_sport['class'] = 'sport'\n",
    "df_sport.dropna()\n",
    "df_int['news'] = pd.DataFrame.from_dict(news_dic, orient = 'index').transpose()[['international']]\n",
    "df_int['class'] = 'international'\n",
    "df_int.dropna()\n",
    "df_sc['news'] = pd.DataFrame.from_dict(news_dic, orient = 'index').transpose()[['sci-tech & agri']]\n",
    "df_sc['class'] = 'sci-tech & agri'\n",
    "df_sc.dropna()\n",
    "df_mag['news'] = pd.DataFrame.from_dict(news_dic, orient = 'index').transpose()[['sunday magazine']]\n",
    "df_mag['class'] = 'sunday magazine'\n",
    "df_mag.dropna()\n"
   ]
  },
  {
   "cell_type": "code",
   "execution_count": null,
   "metadata": {},
   "outputs": [],
   "source": [
    "df_merged = pd.concat([df_int.dropna(),df_sport.dropna(),df_int.dropna(),df_mag.dropna(),df_sc.dropna()])[['news','class']].dropna()"
   ]
  },
  {
   "cell_type": "code",
   "execution_count": null,
   "metadata": {},
   "outputs": [],
   "source": [
    "df_merged_one_hot = pd.get_dummies(df_merged, columns =['class'])\n",
    "df_merged_one_hot.dropna().loc[df_merged_one_hot['class_sport'] == 1]"
   ]
  },
  {
   "cell_type": "code",
   "execution_count": null,
   "metadata": {},
   "outputs": [],
   "source": [
    "df_merged_one_hot.to_csv('data.csv',index = False)"
   ]
  },
  {
   "cell_type": "code",
   "execution_count": null,
   "metadata": {},
   "outputs": [],
   "source": []
  }
 ],
 "metadata": {
  "kernelspec": {
   "display_name": "Python 3",
   "language": "python",
   "name": "python3"
  },
  "language_info": {
   "codemirror_mode": {
    "name": "ipython",
    "version": 3
   },
   "file_extension": ".py",
   "mimetype": "text/x-python",
   "name": "python",
   "nbconvert_exporter": "python",
   "pygments_lexer": "ipython3",
   "version": "3.8.3"
  }
 },
 "nbformat": 4,
 "nbformat_minor": 5
}
